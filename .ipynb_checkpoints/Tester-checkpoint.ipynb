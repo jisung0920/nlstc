{
 "cells": [
  {
   "cell_type": "code",
   "execution_count": 1,
   "metadata": {},
   "outputs": [],
   "source": [
    "import data_miner as miner\n",
    "linker = miner.LinkMiner(engine = \"https://www.google.com/search\", query = \"capstone\")"
   ]
  },
  {
   "cell_type": "code",
   "execution_count": 2,
   "metadata": {},
   "outputs": [
    {
     "data": {
      "text/plain": [
       "['https://ejje.weblio.jp/content/capstone',\n",
       " 'https://dictionary.cambridge.org/ja/dictionary/english/capstone',\n",
       " 'https://eow.alc.co.jp/search%3Fq%3Dcapstone',\n",
       " 'https://en.wikipedia.org/wiki/Capstone',\n",
       " 'https://www.capstoneturbine.com/',\n",
       " 'https://capstonemining.com/home/default.aspx',\n",
       " 'https://www.iesejapan.com/2017/06/05/capstone-project%25E3%2581%25AB%25E3%2581%25A4%25E3%2581%2584%25E3%2581%25A6/',\n",
       " 'https://www.capstonec.com/',\n",
       " 'http://mycapstone.com/',\n",
       " 'http://www.capstonefcu.coop/']"
      ]
     },
     "execution_count": 2,
     "metadata": {},
     "output_type": "execute_result"
    }
   ],
   "source": [
    "linker.get_links()"
   ]
  },
  {
   "cell_type": "code",
   "execution_count": 3,
   "metadata": {},
   "outputs": [],
   "source": [
    "crawe =miner.Crawler([\"capstone\"])"
   ]
  },
  {
   "cell_type": "code",
   "execution_count": 4,
   "metadata": {},
   "outputs": [
    {
     "data": {
      "text/plain": [
       "[u'\\n\\n\\r\\n                            826                        \\n\\nCumulative Megawatts Shipped \\n\\nCapstone Turbine Corporation\\xae is the world\\u2019s leading producer of low-emission microturbine systems.',\n",
       " u'\\nThe methane-fueled Capstone CR200 microturbine installed at Fallowfield Gas Processing Plant produces 200kW of low-emission power.',\n",
       " u'\\nTECHNOLOGY\\nBy integrating an innovative turbine engine, magnetic generator, advanced power electronics, and patented air bearing technology, Capstone microturbines continue to define the standard for clean and reliable energy solutions.',\n",
       " u'\\n\\n\\n\\n\\n\\nCapstone Energy Finance\\n\\nFinancing solutions with no upfront costs\\n\\nView Finance',\n",
       " u'\\n\\n\\n\\n\\n\\nNEXT-GENERATION MICROTURBINES\\nCapstone microturbines are the ideal solution for today\\u2019s distributed generation needs.',\n",
       " u'\\n\\n\\n\\r\\n                            40%                        \\n\\nReduced fuel consumption \\n\\nThe clean-and-green Trolza ECObus-5250 operates entirely with batteries charged by an onboard Capstone C65 Microturbine.',\n",
       " u'\\n\\n\\n\\n\\n\\nEnergy Efficiency\\n\\nthermal energy in CHP or CCHP applications\\n\\nView Solution\\n\\n\\n\\n\\n\\n\\n\\r\\n                            $80k                        \\n\\nUSD Saved during the first 2 months \\n\\nAs a five-star luxury hotel, the world-renowned Four Seasons Hotel Philadelphia utilizes Capstone microturbines to generate the hotel\\u2019s own onsite power.',\n",
       " u'\\n\\n\\n\\n\\nSignature Series Microturbines\\n\\nCapstone\\u2019s next-generation energy solution\\n\\nView C1000S',\n",
       " u'\\n\\n\\nCapstoneWorld\\u2122\\nThe digital world of Capstone based on clean-and-green microturbine technology Explore  \\u203a',\n",
       " u'\\n\\n\\n\\n\\n\\n\\nSignature Series Microturbines\\n\\nCapstone\\u2019s next-generation energy solution\\n\\nView C1000S\\n\\n\\n\\n\\n\\n\\n\\n\\n\\n\\nCapstone Energy Finance\\n\\nFinancing solutions with no upfront costs\\n\\nView Finance\\n\\n\\n\\n\\n\\n\\n\\n\\n\\n\\nCapstone MicroturbinePower Generation\\n\\nReliable power when and where you need it.Clean and simple.',\n",
       " u'\\nCapstoneWorld\\u2122\\nThe digital world of Capstone based on clean-and-green microturbine technology Explore  \\u203a',\n",
       " u'\\n\\n\\n\\n\\nCapstone MicroturbinePower Generation\\n\\nReliable power when and where you need it.Clean and simple.',\n",
       " u'\\n\\n\\n\\n\\n\\nAbout Capstone\\nThe world\\u2019s leading producer of low-emission microturbine systems Learn More \\u203a\\n\\n\\n\\n\\n\\n\\n\\n\\n\\n\\nCapstoneWorld\\u2122\\nThe digital world of Capstone based on clean-and-green microturbine technology Explore  \\u203a\\n\\n\\n\\n\\n\\n\\n\\n\\n\\n\\nInvestor Relations\\nA comprehensive resource with the most up-to-date investor information Overview \\u203a\\n\\n\\n\\n\\n\\n\\n\\n\\n\\n\\nLatest News\\nView Press Releases \\u203a',\n",
       " u'\\nAt Syracuse, the Capstone microturbines allow the Green Data Center to be isolated from the utility company, yet draw on it as a backup power source\\xa0\\xa0View Case Study',\n",
       " u'\\n\\n\\n\\n\\nTECHNOLOGY\\nBy integrating an innovative turbine engine, magnetic generator, advanced power electronics, and patented air bearing technology, Capstone microturbines continue to define the standard for clean and reliable energy solutions.',\n",
       " u'\\nAbout Capstone\\nThe world\\u2019s leading producer of low-emission microturbine systems Learn More \\u203a',\n",
       " u'\\nSignature Series Microturbines\\n\\nCapstone\\u2019s next-generation energy solution\\n\\nView C1000S',\n",
       " u'\\n\\n\\n\\n\\n\\nTECHNOLOGY\\nBy integrating an innovative turbine engine, magnetic generator, advanced power electronics, and patented air bearing technology, Capstone microturbines continue to define the standard for clean and reliable energy solutions.',\n",
       " u'\\n\\n\\r\\n                            $80k                        \\n\\nUSD Saved during the first 2 months \\n\\nAs a five-star luxury hotel, the world-renowned Four Seasons Hotel Philadelphia utilizes Capstone microturbines to generate the hotel\\u2019s own onsite power.',\n",
       " u'\\n\\nCapstone Energy Finance\\n\\nFinancing solutions with no upfront costs\\n\\nView Finance',\n",
       " u'\\nThe Capstone CR65 microturbine provided a new, environmentally friendly approach to the traditional treatment of Swineline Farm\\u2019s animal waste.',\n",
       " u'As the world\\u2019s leading clean technology manufacturer of microturbine energy systems, Capstone products are supported by over 100 patents to deliver distributed power applications for customers worldwide.',\n",
       " u'\\n\\n\\n\\nNEXT-GENERATION MICROTURBINES\\nCapstone microturbines are the ideal solution for today\\u2019s distributed generation needs.',\n",
       " u'\\n\\nCapstone MicroturbinePower Generation\\n\\nReliable power when and where you need it.Clean and simple.',\n",
       " u'\\n\\n\\n\\r\\n                            50%                        \\n\\nLess energy used \\n\\nAt Syracuse, the Capstone microturbines allow the Green Data Center to be isolated from the utility company, yet draw on it as a backup power source\\xa0\\xa0View Case Study',\n",
       " u'View Case Study \\n\\n\\n\\n\\n\\n\\n\\n\\n\\nCritical Power Supply \\n\\nReliable Source of Power that Pays for Itself\\n\\nView Solution\\n\\n\\n\\n\\n\\n\\n\\r\\n                            50%                        \\n\\nLess energy used \\n\\nAt Syracuse, the Capstone microturbines allow the Green Data Center to be isolated from the utility company, yet draw on it as a backup power source\\xa0\\xa0View Case Study \\n\\n\\n\\n\\n\\n\\n\\n\\n\\nTransportation\\n\\nClean and Green Onboard Energy\\n\\nView Transportation\\n\\n\\n\\n\\n\\n\\n\\r\\n                            40%                        \\n\\nReduced fuel consumption \\n\\nThe clean-and-green Trolza ECObus-5250 operates entirely with batteries charged by an onboard Capstone C65 Microturbine.',\n",
       " u'\\n\\n\\n\\n\\nNEXT-GENERATION MICROTURBINES\\nCapstone microturbines are the ideal solution for today\\u2019s distributed generation needs.',\n",
       " u'\\nCapstone MicroturbinePower Generation\\n\\nReliable power when and where you need it.Clean and simple.',\n",
       " u'\\n\\r\\n\\t\\t\\t\\xa9 Copyright 2019 Capstone Turbine Corporation All rights reserved.',\n",
       " u'\\n\\n\\r\\n                            80k                        \\n\\nPotential annual energy cost savings \\n\\nThe methane-fueled Capstone CR200 microturbine installed at Fallowfield Gas Processing Plant produces 200kW of low-emission power.',\n",
       " u'\\n\\n\\n\\r\\n                            $80k                        \\n\\nUSD Saved during the first 2 months \\n\\nAs a five-star luxury hotel, the world-renowned Four Seasons Hotel Philadelphia utilizes Capstone microturbines to generate the hotel\\u2019s own onsite power.',\n",
       " u'\\n\\n\\n\\n\\n\\nCritical Power Supply \\n\\nReliable Source of Power that Pays for Itself\\n\\nView Solution\\n\\n\\n\\n\\n\\n\\n\\r\\n                            50%                        \\n\\nLess energy used \\n\\nAt Syracuse, the Capstone microturbines allow the Green Data Center to be isolated from the utility company, yet draw on it as a backup power source\\xa0\\xa0View Case Study',\n",
       " u'\\n\\nTECHNOLOGY\\nBy integrating an innovative turbine engine, magnetic generator, advanced power electronics, and patented air bearing technology, Capstone microturbines continue to define the standard for clean and reliable energy solutions.',\n",
       " u'\\nNEXT-GENERATION MICROTURBINES\\nCapstone microturbines are the ideal solution for today\\u2019s distributed generation needs.',\n",
       " u'\\nAs a five-star luxury hotel, the world-renowned Four Seasons Hotel Philadelphia utilizes Capstone microturbines to generate the hotel\\u2019s own onsite power.',\n",
       " u'\\n\\nNEXT-GENERATION MICROTURBINES\\nCapstone microturbines are the ideal solution for today\\u2019s distributed generation needs.',\n",
       " u'\\n\\n\\n\\n\\n\\nTransportation\\n\\nClean and Green Onboard Energy\\n\\nView Transportation\\n\\n\\n\\n\\n\\n\\n\\r\\n                            40%                        \\n\\nReduced fuel consumption \\n\\nThe clean-and-green Trolza ECObus-5250 operates entirely with batteries charged by an onboard Capstone C65 Microturbine.',\n",
       " u'\\n\\n\\n\\n\\nAbout Capstone\\nThe world\\u2019s leading producer of low-emission microturbine systems Learn More \\u203a',\n",
       " u'\\n\\n\\n\\r\\n                            30%                        \\n\\nAnnual reduced electrical use \\n\\nThe Capstone CR65 microturbine provided a new, environmentally friendly approach to the traditional treatment of Swineline Farm\\u2019s animal waste.',\n",
       " u'\\n\\n\\n\\n\\n\\nOil, Gas & OtherNatural Resources\\n\\nonshore and offshore solutions\\n\\nView Solution\\n\\n\\n\\n\\n\\n\\n\\r\\n                            80k                        \\n\\nPotential annual energy cost savings \\n\\nThe methane-fueled Capstone CR200 microturbine installed at Fallowfield Gas Processing Plant produces 200kW of low-emission power.',\n",
       " u'\\nCapstone\\u2019s next-generation energy solution',\n",
       " u'\\n\\nAbout Capstone\\nThe world\\u2019s leading producer of low-emission microturbine systems Learn More \\u203a',\n",
       " u'\\n\\n\\nNEXT-GENERATION MICROTURBINES\\nCapstone microturbines are the ideal solution for today\\u2019s distributed generation needs.',\n",
       " u'View Case Study \\n\\n\\n\\n\\n\\n\\n\\n\\n\\nRenewable Energy\\n\\nspecifically designed to operate on waste gas fuels\\n\\nView Solution\\n\\n\\n\\n\\n\\n\\n\\r\\n                            30%                        \\n\\nAnnual reduced electrical use \\n\\nThe Capstone CR65 microturbine provided a new, environmentally friendly approach to the traditional treatment of Swineline Farm\\u2019s animal waste.',\n",
       " u'\\n\\n\\r\\n                            50%                        \\n\\nLess energy used \\n\\nAt Syracuse, the Capstone microturbines allow the Green Data Center to be isolated from the utility company, yet draw on it as a backup power source\\xa0\\xa0View Case Study',\n",
       " u'\\r\\n\\t\\t\\t\\xa9 Copyright 2019 Capstone Turbine Corporation All rights reserved.',\n",
       " u'\\n\\n\\n\\n\\n\\nCapstone MicroturbinePower Generation\\n\\nReliable power when and where you need it.Clean and simple.',\n",
       " u'\\n\\n\\n\\r\\n                            826                        \\n\\nCumulative Megawatts Shipped \\n\\nCapstone Turbine Corporation\\xae is the world\\u2019s leading producer of low-emission microturbine systems.',\n",
       " u'\\n\\n\\r\\n                            40%                        \\n\\nReduced fuel consumption \\n\\nThe clean-and-green Trolza ECObus-5250 operates entirely with batteries charged by an onboard Capstone C65 Microturbine.',\n",
       " u'\\n\\n\\n\\nTECHNOLOGY\\nBy integrating an innovative turbine engine, magnetic generator, advanced power electronics, and patented air bearing technology, Capstone microturbines continue to define the standard for clean and reliable energy solutions.',\n",
       " u'\\n\\n\\nTECHNOLOGY\\nBy integrating an innovative turbine engine, magnetic generator, advanced power electronics, and patented air bearing technology, Capstone microturbines continue to define the standard for clean and reliable energy solutions.',\n",
       " u'\\n\\n\\r\\n                            30%                        \\n\\nAnnual reduced electrical use \\n\\nThe Capstone CR65 microturbine provided a new, environmentally friendly approach to the traditional treatment of Swineline Farm\\u2019s animal waste.',\n",
       " u'\\nCapstone Turbine Corporation\\xae is the world\\u2019s leading producer of low-emission microturbine systems.',\n",
       " u'\\n\\n\\n\\n\\n\\nSignature Series Microturbines\\n\\nCapstone\\u2019s next-generation energy solution\\n\\nView C1000S',\n",
       " u'Learn more \\u203a \\n\\n\\n\\n\\n\\n\\n\\n\\n\\nEnergy Efficiency\\n\\nthermal energy in CHP or CCHP applications\\n\\nView Solution\\n\\n\\n\\n\\n\\n\\n\\r\\n                            $80k                        \\n\\nUSD Saved during the first 2 months \\n\\nAs a five-star luxury hotel, the world-renowned Four Seasons Hotel Philadelphia utilizes Capstone microturbines to generate the hotel\\u2019s own onsite power.',\n",
       " u'\\n\\n\\n\\n\\nCapstoneWorld\\u2122\\nThe digital world of Capstone based on clean-and-green microturbine technology Explore  \\u203a',\n",
       " u'Learn more \\u203a \\n\\n\\n\\n\\n\\n\\n\\n\\n\\nOil, Gas & OtherNatural Resources\\n\\nonshore and offshore solutions\\n\\nView Solution\\n\\n\\n\\n\\n\\n\\n\\r\\n                            80k                        \\n\\nPotential annual energy cost savings \\n\\nThe methane-fueled Capstone CR200 microturbine installed at Fallowfield Gas Processing Plant produces 200kW of low-emission power.',\n",
       " u'\\nCapstone Energy Finance\\n\\nFinancing solutions with no upfront costs\\n\\nView Finance',\n",
       " u'\\n\\n\\nAbout Capstone\\nThe world\\u2019s leading producer of low-emission microturbine systems Learn More \\u203a',\n",
       " u'\\n\\n\\n\\n\\nCapstone Energy Finance\\n\\nFinancing solutions with no upfront costs\\n\\nView Finance',\n",
       " u'\\n\\n\\n\\r\\n                            80k                        \\n\\nPotential annual energy cost savings \\n\\nThe methane-fueled Capstone CR200 microturbine installed at Fallowfield Gas Processing Plant produces 200kW of low-emission power.',\n",
       " u'\\n\\nCapstoneWorld\\u2122\\nThe digital world of Capstone based on clean-and-green microturbine technology Explore  \\u203a',\n",
       " u'\\n\\nSignature Series Microturbines\\n\\nCapstone\\u2019s next-generation energy solution\\n\\nView C1000S',\n",
       " u'\\nThe clean-and-green Trolza ECObus-5250 operates entirely with batteries charged by an onboard Capstone C65 Microturbine.',\n",
       " u'View Solutions\\n\\n\\n\\n\\n\\n\\n\\r\\n                            826                        \\n\\nCumulative Megawatts Shipped \\n\\nCapstone Turbine Corporation\\xae is the world\\u2019s leading producer of low-emission microturbine systems.',\n",
       " u'\\n\\n\\n\\n\\n\\nRenewable Energy\\n\\nspecifically designed to operate on waste gas fuels\\n\\nView Solution\\n\\n\\n\\n\\n\\n\\n\\r\\n                            30%                        \\n\\nAnnual reduced electrical use \\n\\nThe Capstone CR65 microturbine provided a new, environmentally friendly approach to the traditional treatment of Swineline Farm\\u2019s animal waste.']"
      ]
     },
     "execution_count": 4,
     "metadata": {},
     "output_type": "execute_result"
    }
   ],
   "source": [
    "crawe.html_crawler(link='https://www.capstoneturbine.com/')"
   ]
  },
  {
   "cell_type": "code",
   "execution_count": 1,
   "metadata": {},
   "outputs": [],
   "source": []
  },
  {
   "cell_type": "code",
   "execution_count": 3,
   "metadata": {},
   "outputs": [
    {
     "name": "stdout",
     "output_type": "stream",
     "text": [
      "['sexual exploitation', 'human trafficking', 'common form']\n",
      "['sexual', 'exploitation', 'human', 'trafficking', 'common', 'form']\n",
      "intimate\n",
      "sex\n",
      "overuse\n",
      "abuse\n",
      "Skyperson\n",
      "human being\n",
      "simple\n",
      "well-known\n",
      "mould\n",
      "style\n"
     ]
    }
   ],
   "source": [
    "import word_extractor.word_parser as parser\n",
    "testparser = parser.WordParser(\"According to the Report, the most common form of human trafficking (79%) is sexual exploitation.\")\n",
    "keywords = testparser.get_keywords()\n",
    "print keywords\n",
    "tokens =testparser.get_tokens(keywords)\n",
    "print tokens\n",
    "synonums = testparser.get_keyword_synonym(tokens)\n",
    "for i in synonums :\n",
    "    print i"
   ]
  },
  {
   "cell_type": "code",
   "execution_count": 19,
   "metadata": {},
   "outputs": [
    {
     "name": "stdout",
     "output_type": "stream",
     "text": [
      "attempt\n",
      "exam\n",
      "school-test\n",
      "study\n",
      "inspect\n",
      "class test\n",
      "try\n",
      "trial\n",
      "criterion\n",
      "examination\n",
      "effort\n",
      "screen\n"
     ]
    }
   ],
   "source": [
    "import word_extractor.word_parser as parser\n",
    "ftypes = [\"html\",\"pdf\"]\n",
    "\n",
    "parser.query_generator(\"According to the Report, the most common form of human trafficking (79%) is sexual exploitation.\",3,2,ftypes))\n",
    "# from vocabulary.vocabulary import Vocabulary as vb\n",
    "# import json\n",
    "# data = json.loads(vb.synonym(\"test\"))\n",
    "# datas = vb.synonym(\"test\")\n",
    "# for i in data :\n",
    "#     print i[\"text\"]\n"
   ]
  },
  {
   "cell_type": "code",
   "execution_count": null,
   "metadata": {},
   "outputs": [],
   "source": []
  },
  {
   "cell_type": "code",
   "execution_count": null,
   "metadata": {},
   "outputs": [],
   "source": []
  },
  {
   "cell_type": "code",
   "execution_count": null,
   "metadata": {},
   "outputs": [],
   "source": []
  }
 ],
 "metadata": {
  "kernelspec": {
   "display_name": "Python 2",
   "language": "python",
   "name": "python2"
  },
  "language_info": {
   "codemirror_mode": {
    "name": "ipython",
    "version": 2
   },
   "file_extension": ".py",
   "mimetype": "text/x-python",
   "name": "python",
   "nbconvert_exporter": "python",
   "pygments_lexer": "ipython2",
   "version": "2.7.15"
  }
 },
 "nbformat": 4,
 "nbformat_minor": 2
}
